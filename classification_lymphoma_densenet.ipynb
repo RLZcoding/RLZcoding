{
  "nbformat": 4,
  "nbformat_minor": 0,
  "metadata": {
    "colab": {
      "name": "classification_lymphoma_densenet.ipynb",
      "provenance": [],
      "authorship_tag": "ABX9TyOth9cnRxCPEHWcWpgDo3+k",
      "include_colab_link": true
    },
    "kernelspec": {
      "name": "python3",
      "display_name": "Python 3"
    },
    "language_info": {
      "name": "python"
    },
    "accelerator": "GPU",
    "gpuClass": "standard"
  },
  "cells": [
    {
      "cell_type": "markdown",
      "metadata": {
        "id": "view-in-github",
        "colab_type": "text"
      },
      "source": [
        "<a href=\"https://colab.research.google.com/github/RLZcoding/RLZcoding/blob/master/classification_lymphoma_densenet.ipynb\" target=\"_parent\"><img src=\"https://colab.research.google.com/assets/colab-badge.svg\" alt=\"Open In Colab\"/></a>"
      ]
    },
    {
      "cell_type": "code",
      "execution_count": 1,
      "metadata": {
        "colab": {
          "base_uri": "https://localhost:8080/"
        },
        "id": "kVRRAIrKkw0g",
        "outputId": "2f1d45de-1110-45e8-bf5c-c19d3d4ee17c"
      },
      "outputs": [
        {
          "output_type": "stream",
          "name": "stdout",
          "text": [
            "--2022-06-21 20:13:23--  http://andrewjanowczyk.com/wp-static/lymphoma.tar.gz\n",
            "Resolving andrewjanowczyk.com (andrewjanowczyk.com)... 129.22.136.73\n",
            "Connecting to andrewjanowczyk.com (andrewjanowczyk.com)|129.22.136.73|:80... connected.\n",
            "HTTP request sent, awaiting response... 200 OK\n",
            "Length: 1441583313 (1.3G) [application/x-gzip]\n",
            "Saving to: ‘lymphoma.tar.gz’\n",
            "\n",
            "lymphoma.tar.gz     100%[===================>]   1.34G  1.14MB/s    in 9m 47s  \n",
            "\n",
            "2022-06-21 20:23:11 (2.34 MB/s) - ‘lymphoma.tar.gz’ saved [1441583313/1441583313]\n",
            "\n"
          ]
        }
      ],
      "source": [
        "!wget http://andrewjanowczyk.com/wp-static/lymphoma.tar.gz"
      ]
    },
    {
      "cell_type": "code",
      "source": [
        "from google.colab import drive\n",
        "drive.mount('/gdrive')\n",
        "%cd /gdrive/My\\ Drive/Colab\\ Notebooks/classification_lymphoma_densenet/"
      ],
      "metadata": {
        "colab": {
          "base_uri": "https://localhost:8080/"
        },
        "id": "xa_ZNmzymsZE",
        "outputId": "de12564a-cd16-4782-93f9-438f4225ab36"
      },
      "execution_count": 2,
      "outputs": [
        {
          "output_type": "stream",
          "name": "stdout",
          "text": [
            "Mounted at /gdrive\n",
            "/gdrive/My Drive/Colab Notebooks/classification_lymphoma_densenet\n"
          ]
        }
      ]
    },
    {
      "cell_type": "code",
      "source": [
        "#Do not execute if this folder exists\n",
        "%mkdir data "
      ],
      "metadata": {
        "id": "kw92iH4zoFl0"
      },
      "execution_count": null,
      "outputs": []
    },
    {
      "cell_type": "code",
      "source": [
        "%cd data"
      ],
      "metadata": {
        "colab": {
          "base_uri": "https://localhost:8080/"
        },
        "id": "SqC6UiC9mscd",
        "outputId": "8929d7fd-fd73-4fca-ddf9-6368affd36fb"
      },
      "execution_count": 3,
      "outputs": [
        {
          "output_type": "stream",
          "name": "stdout",
          "text": [
            "/gdrive/MyDrive/Colab Notebooks/classification_lymphoma_densenet/data\n"
          ]
        }
      ]
    },
    {
      "cell_type": "code",
      "source": [
        "!tar --gunzip --extract --verbose --file=/content/lymphoma.tar.gz"
      ],
      "metadata": {
        "colab": {
          "base_uri": "https://localhost:8080/"
        },
        "id": "WBt_zk7VmsfT",
        "outputId": "9dd95718-7a0a-40c9-b50f-e64483c3562f"
      },
      "execution_count": 4,
      "outputs": [
        {
          "output_type": "stream",
          "name": "stdout",
          "text": [
            "CLL/\n",
            "CLL/sj-03-2810_001.tif\n",
            "CLL/sj-03-2810_002.tif\n",
            "CLL/sj-03-2810_003.tif\n",
            "CLL/sj-03-2810_004.tif\n",
            "CLL/sj-03-2810_005.tif\n",
            "CLL/sj-03-2810_006.tif\n",
            "CLL/sj-03-2810_007.tif\n",
            "CLL/sj-03-2810_008.tif\n",
            "CLL/sj-03-2810_009.tif\n",
            "CLL/sj-03-2810_010.tif\n",
            "CLL/sj-03-2810_011.tif\n",
            "CLL/sj-03-476_001.tif\n",
            "CLL/sj-03-476_002.tif\n",
            "CLL/sj-03-476_003.tif\n",
            "CLL/sj-03-476_004.tif\n",
            "CLL/sj-03-476_005.tif\n",
            "CLL/sj-03-476_006.tif\n",
            "CLL/sj-03-476_007.tif\n",
            "CLL/sj-03-476_008.tif\n",
            "CLL/sj-03-476_009.tif\n",
            "CLL/sj-03-476_010.tif\n",
            "CLL/sj-03-4957_001.tif\n",
            "CLL/sj-03-4957_002.tif\n",
            "CLL/sj-03-4957_003.tif\n",
            "CLL/sj-03-4957_004.tif\n",
            "CLL/sj-03-4957_005.tif\n",
            "CLL/sj-03-4957_006.tif\n",
            "CLL/sj-03-4957_007.tif\n",
            "CLL/sj-03-4957_008.tif\n",
            "CLL/sj-03-4957_009.tif\n",
            "CLL/sj-03-4957_010.tif\n",
            "CLL/sj-03-5521_001.tif\n",
            "CLL/sj-03-5521_002.tif\n",
            "CLL/sj-03-5521_003.tif\n",
            "CLL/sj-03-5521_004.tif\n",
            "CLL/sj-03-5521_005.tif\n",
            "CLL/sj-03-5521_006.tif\n",
            "CLL/sj-03-5521_007.tif\n",
            "CLL/sj-03-5521_008.tif\n",
            "CLL/sj-03-5521_009.tif\n",
            "CLL/sj-03-5521_010.tif\n",
            "CLL/sj-03-852-R2_001.tif\n",
            "CLL/sj-03-852-R2_002.tif\n",
            "CLL/sj-03-852-R2_003.tif\n",
            "CLL/sj-03-852-R2_004.tif\n",
            "CLL/sj-03-852-R2_005.tif\n",
            "CLL/sj-03-852-R2_006.tif\n",
            "CLL/sj-03-852-R2_007.tif\n",
            "CLL/sj-03-852-R2_008.tif\n",
            "CLL/sj-03-852-R2_009.tif\n",
            "CLL/sj-03-852-R2_010.tif\n",
            "CLL/sj-03-852-R2_011.tif\n",
            "CLL/sj-03-852-R2_012.tif\n",
            "CLL/sj-03-852-R2_013.tif\n",
            "CLL/sj-03-852-R2_014.tif\n",
            "CLL/sj-05-1396-R3_001.tif\n",
            "CLL/sj-05-1396-R3_002.tif\n",
            "CLL/sj-05-1396-R3_003.tif\n",
            "CLL/sj-05-1396-R3_004.tif\n",
            "CLL/sj-05-1396-R3_005.tif\n",
            "CLL/sj-05-1396-R3_006.tif\n",
            "CLL/sj-05-1396-R3_007.tif\n",
            "CLL/sj-05-1396-R3_008.tif\n",
            "CLL/sj-05-1396-R3_009.tif\n",
            "CLL/sj-05-1396-R3_010.tif\n",
            "CLL/sj-05-1396-R3_011.tif\n",
            "CLL/sj-05-3165_001.tif\n",
            "CLL/sj-05-3165_002.tif\n",
            "CLL/sj-05-3165_003.tif\n",
            "CLL/sj-05-3165_004.tif\n",
            "CLL/sj-05-3165_005.tif\n",
            "CLL/sj-05-3165_006.tif\n",
            "CLL/sj-05-3165_007.tif\n",
            "CLL/sj-05-3165_008.tif\n",
            "CLL/sj-05-3165_009.tif\n",
            "CLL/sj-05-3165_010.tif\n",
            "CLL/sj-05-3165_011.tif\n",
            "CLL/sj-05-3165_012.tif\n",
            "CLL/sj-05-3344_001.tif\n",
            "CLL/sj-05-3344_002.tif\n",
            "CLL/sj-05-3344_003.tif\n",
            "CLL/sj-05-3344_004.tif\n",
            "CLL/sj-05-3344_005.tif\n",
            "CLL/sj-05-3344_006.tif\n",
            "CLL/sj-05-3344_007.tif\n",
            "CLL/sj-05-3344_008.tif\n",
            "CLL/sj-05-3344_009.tif\n",
            "CLL/sj-05-3344_010.tif\n",
            "CLL/sj-05-3344_011.tif\n",
            "CLL/sj-05-3874-R2_001.tif\n",
            "CLL/sj-05-3874-R2_002.tif\n",
            "CLL/sj-05-3874-R2_003.tif\n",
            "CLL/sj-05-3874-R2_004.tif\n",
            "CLL/sj-05-3874-R2_005.tif\n",
            "CLL/sj-05-3874-R2_006.tif\n",
            "CLL/sj-05-3874-R2_007.tif\n",
            "CLL/sj-05-3874-R2_008.tif\n",
            "CLL/sj-05-3874-R2_009.tif\n",
            "CLL/sj-05-3874-R2_010.tif\n",
            "CLL/sj-05-5269-R10_002.tif\n",
            "CLL/sj-05-5269-R10_003.tif\n",
            "CLL/sj-05-5269-R10_004.tif\n",
            "CLL/sj-05-5269-R10_005.tif\n",
            "CLL/sj-05-5269-R10_006.tif\n",
            "CLL/sj-05-5269-R10_007.tif\n",
            "CLL/sj-05-5269-R10_008.tif\n",
            "CLL/sj-05-5269-R10_009.tif\n",
            "CLL/sj-05-5269-R10_010.tif\n",
            "CLL/sj-05-5269-R10_011.tif\n",
            "CLL/sj-05-5269-R10_012.tif\n",
            "CLL/sj-05-5269-R10_013.tif\n",
            "CLL/sj-05-5269-R10_014.tif\n",
            "CLL/sj-05-5269-R10_015.tif\n",
            "FL/\n",
            "FL/.DS_Store\n",
            "FL/sj-05-1467-R1_001.tif\n",
            "FL/sj-05-1467-R1_002.tif\n",
            "FL/sj-05-1467-R1_003.tif\n",
            "FL/sj-05-1467-R1_004.tif\n",
            "FL/sj-05-1467-R1_005.tif\n",
            "FL/sj-05-1467-R1_006.tif\n",
            "FL/sj-05-1467-R1_007.tif\n",
            "FL/sj-05-1467-R1_008.tif\n",
            "FL/sj-05-1467-R1_009.tif\n",
            "FL/sj-05-1467-R1_010.tif\n",
            "FL/sj-05-1467-R1_011.tif\n",
            "FL/sj-05-1881-R1_001.tif\n",
            "FL/sj-05-1881-R1_002.tif\n",
            "FL/sj-05-1881-R1_003.tif\n",
            "FL/sj-05-1881-R1_004.tif\n",
            "FL/sj-05-1881-R1_005.tif\n",
            "FL/sj-05-1881-R1_006.tif\n",
            "FL/sj-05-1881-R1_007.tif\n",
            "FL/sj-05-1881-R1_008.tif\n",
            "FL/sj-05-1881-R1_009.tif\n",
            "FL/sj-05-1881-R1_010.tif\n",
            "FL/sj-05-1881-R1_011.tif\n",
            "FL/sj-05-1881-R1_012.tif\n",
            "FL/sj-05-1881-R1_013.tif\n",
            "FL/sj-05-1881-R1_014.tif\n",
            "FL/sj-05-1881-R1_015.tif\n",
            "FL/sj-05-1881-R1_016.tif\n",
            "FL/sj-05-1881-R1_017.tif\n",
            "FL/sj-05-1881-R1_018.tif\n",
            "FL/sj-05-1881-R1_019.tif\n",
            "FL/sj-05-4881-R3_001.tif\n",
            "FL/sj-05-4881-R3_002.tif\n",
            "FL/sj-05-4881-R3_003.tif\n",
            "FL/sj-05-4881-R3_004.tif\n",
            "FL/sj-05-4881-R3_005.tif\n",
            "FL/sj-05-4881-R3_006.tif\n",
            "FL/sj-05-4881-R3_007.tif\n",
            "FL/sj-05-4881-R3_008.tif\n",
            "FL/sj-05-4881-R3_009.tif\n",
            "FL/sj-05-4881-R3_010.tif\n",
            "FL/sj-05-5311-R1_001.tif\n",
            "FL/sj-05-5311-R1_002.tif\n",
            "FL/sj-05-5311-R1_003.tif\n",
            "FL/sj-05-5311-R1_004.tif\n",
            "FL/sj-05-5311-R1_005.tif\n",
            "FL/sj-05-5311-R1_006.tif\n",
            "FL/sj-05-5311-R1_007.tif\n",
            "FL/sj-05-5311-R1_008.tif\n",
            "FL/sj-05-5311-R1_009.tif\n",
            "FL/sj-05-5311-R1_010.tif\n",
            "FL/sj-05-5311-R1_011.tif\n",
            "FL/sj-05-5311-R1_012.tif\n",
            "FL/sj-05-5311-R1_013.tif\n",
            "FL/sj-05-5389-R1_001.tif\n",
            "FL/sj-05-5389-R1_002.tif\n",
            "FL/sj-05-5389-R1_003.tif\n",
            "FL/sj-05-5389-R1_004.tif\n",
            "FL/sj-05-5389-R1_005.tif\n",
            "FL/sj-05-5389-R1_006.tif\n",
            "FL/sj-05-5389-R1_007.tif\n",
            "FL/sj-05-5389-R1_008.tif\n",
            "FL/sj-05-5389-R1_009.tif\n",
            "FL/sj-05-5389-R1_010.tif\n",
            "FL/sj-05-5389-R1_011.tif\n",
            "FL/sj-05-5389-R1_012.tif\n",
            "FL/sj-05-5389-R1_013.tif\n",
            "FL/sj-05-5389-R1_014.tif\n",
            "FL/sj-05-5389-R1_015.tif\n",
            "FL/sj-05-5389-R1_016.tif\n",
            "FL/sj-05-5389-R1_017.tif\n",
            "FL/sj-05-5389-R1_018.tif\n",
            "FL/sj-05-5389-R1_019.tif\n",
            "FL/sj-05-5829_001.tif\n",
            "FL/sj-05-5829_002.tif\n",
            "FL/sj-05-5829_003.tif\n",
            "FL/sj-05-5829_004.tif\n",
            "FL/sj-05-5829_005.tif\n",
            "FL/sj-05-5829_006.tif\n",
            "FL/sj-05-5829_007.tif\n",
            "FL/sj-05-5829_008.tif\n",
            "FL/sj-05-5829_009.tif\n",
            "FL/sj-05-5829_010.tif\n",
            "FL/sj-05-5829_011.tif\n",
            "FL/sj-05-5829_012.tif\n",
            "FL/sj-05-588-R1_001.tif\n",
            "FL/sj-05-588-R1_002.tif\n",
            "FL/sj-05-588-R1_003.tif\n",
            "FL/sj-05-588-R1_004.tif\n",
            "FL/sj-05-588-R1_005.tif\n",
            "FL/sj-05-588-R1_006.tif\n",
            "FL/sj-05-588-R1_007.tif\n",
            "FL/sj-05-588-R1_008.tif\n",
            "FL/sj-05-588-R1_009.tif\n",
            "FL/sj-05-588-R1_010.tif\n",
            "FL/sj-05-6124-R3_001.tif\n",
            "FL/sj-05-6124-R3_002.tif\n",
            "FL/sj-05-6124-R3_003.tif\n",
            "FL/sj-05-6124-R3_004.tif\n",
            "FL/sj-05-6124-R3_005.tif\n",
            "FL/sj-05-6124-R3_006.tif\n",
            "FL/sj-05-6124-R3_007.tif\n",
            "FL/sj-05-6124-R3_008.tif\n",
            "FL/sj-05-6124-R3_009.tif\n",
            "FL/sj-05-6124-R3_010.tif\n",
            "FL/sj-05-6124-R3_011.tif\n",
            "FL/sj-05-6124-R3_012.tif\n",
            "FL/sj-05-6124-R3_013.tif\n",
            "FL/sj-05-6124-R3_014.tif\n",
            "FL/sj-05-6124-R3_015.tif\n",
            "FL/sj-05-6124-R4_001.tif\n",
            "FL/sj-05-6124-R4_002.tif\n",
            "FL/sj-05-6124-R4_003.tif\n",
            "FL/sj-05-6124-R4_004.tif\n",
            "FL/sj-05-6124-R4_005.tif\n",
            "FL/sj-05-6124-R4_006.tif\n",
            "FL/sj-05-6124-R4_007.tif\n",
            "FL/sj-05-6124-R4_008.tif\n",
            "FL/sj-05-6124-R4_009.tif\n",
            "FL/sj-05-6124-R4_010.tif\n",
            "FL/sj-05-6124-R4_011.tif\n",
            "FL/sj-05-6124-R4_012.tif\n",
            "FL/sj-05-6124-R4_013.tif\n",
            "FL/sj-05-6124-R4_014.tif\n",
            "FL/sj-05-6124-R4_015.tif\n",
            "FL/sj-05-6124-R4_016.tif\n",
            "FL/sj-05-894-R3_001.tif\n",
            "FL/sj-05-894-R3_002.tif\n",
            "FL/sj-05-894-R3_003.tif\n",
            "FL/sj-05-894-R3_004.tif\n",
            "FL/sj-05-894-R3_005.tif\n",
            "FL/sj-05-894-R3_006.tif\n",
            "FL/sj-05-894-R3_007.tif\n",
            "FL/sj-05-894-R3_008.tif\n",
            "FL/sj-05-894-R3_009.tif\n",
            "FL/sj-05-894-R3_010.tif\n",
            "FL/sj-05-894-R3_011.tif\n",
            "FL/sj-05-894-R3_012.tif\n",
            "FL/sj-05-894-R3_013.tif\n",
            "FL/sj-05-894-R3_014.tif\n",
            "MCL/\n",
            "MCL/sj-04-3077-R2_001.tif\n",
            "MCL/sj-04-3077-R2_002.tif\n",
            "MCL/sj-04-3077-R2_003.tif\n",
            "MCL/sj-04-3077-R2_004.tif\n",
            "MCL/sj-04-3077-R2_005.tif\n",
            "MCL/sj-04-3077-R2_006.tif\n",
            "MCL/sj-04-3077-R2_007.tif\n",
            "MCL/sj-04-3077-R2_008.tif\n",
            "MCL/sj-04-3077-R2_009.tif\n",
            "MCL/sj-04-3077-R2_010.tif\n",
            "MCL/sj-04-3077-R2_011.tif\n",
            "MCL/sj-04-4525-R4_001.tif\n",
            "MCL/sj-04-4525-R4_002.tif\n",
            "MCL/sj-04-4525-R4_003.tif\n",
            "MCL/sj-04-4525-R4_004.tif\n",
            "MCL/sj-04-4525-R4_005.tif\n",
            "MCL/sj-04-4525-R4_006.tif\n",
            "MCL/sj-04-4525-R4_007.tif\n",
            "MCL/sj-04-4525-R4_008.tif\n",
            "MCL/sj-04-4525-R4_009.tif\n",
            "MCL/sj-04-4525-R4_010.tif\n",
            "MCL/sj-04-4525-R4_011.tif\n",
            "MCL/sj-04-4525-R4_012.tif\n",
            "MCL/sj-04-4967-R2_001.tif\n",
            "MCL/sj-04-4967-R2_002.tif\n",
            "MCL/sj-04-4967-R2_003.tif\n",
            "MCL/sj-04-4967-R2_004.tif\n",
            "MCL/sj-04-4967-R2_005.tif\n",
            "MCL/sj-04-4967-R2_006.tif\n",
            "MCL/sj-04-4967-R2_007.tif\n",
            "MCL/sj-04-4967-R2_008.tif\n",
            "MCL/sj-04-4967-R2_009.tif\n",
            "MCL/sj-04-4967-R2_010.tif\n",
            "MCL/sj-04-4967-R2_011.tif\n",
            "MCL/sj-04-6010-R3_001.tif\n",
            "MCL/sj-04-6010-R3_002.tif\n",
            "MCL/sj-04-6010-R3_003.tif\n",
            "MCL/sj-04-6010-R3_004.tif\n",
            "MCL/sj-04-6010-R3_005.tif\n",
            "MCL/sj-04-6010-R3_006.tif\n",
            "MCL/sj-04-6010-R3_007.tif\n",
            "MCL/sj-04-6010-R3_008.tif\n",
            "MCL/sj-04-6010-R3_009.tif\n",
            "MCL/sj-04-6010-R3_010.tif\n",
            "MCL/sj-04-6010-R3_011.tif\n",
            "MCL/sj-05-1374_001.tif\n",
            "MCL/sj-05-1374_002.tif\n",
            "MCL/sj-05-1374_003.tif\n",
            "MCL/sj-05-1374_004.tif\n",
            "MCL/sj-05-1374_005.tif\n",
            "MCL/sj-05-1374_006.tif\n",
            "MCL/sj-05-1374_007.tif\n",
            "MCL/sj-05-1374_008.tif\n",
            "MCL/sj-05-1374_009.tif\n",
            "MCL/sj-05-1374_010.tif\n",
            "MCL/sj-05-1374_011.tif\n",
            "MCL/sj-05-1374_012.tif\n",
            "MCL/sj-05-1374_013.tif\n",
            "MCL/sj-05-1374_014.tif\n",
            "MCL/sj-05-3362-R2_001.tif\n",
            "MCL/sj-05-3362-R2_002.tif\n",
            "MCL/sj-05-3362-R2_003.tif\n",
            "MCL/sj-05-3362-R2_004.tif\n",
            "MCL/sj-05-3362-R2_005.tif\n",
            "MCL/sj-05-3362-R2_006.tif\n",
            "MCL/sj-05-3362-R2_007.tif\n",
            "MCL/sj-05-3362-R2_008.tif\n",
            "MCL/sj-05-3362-R2_009.tif\n",
            "MCL/sj-05-3362-R2_010.tif\n",
            "MCL/sj-05-3362-R2_011.tif\n",
            "MCL/sj-05-3362-R2_012.tif\n",
            "MCL/sj-05-3362-R2_013.tif\n",
            "MCL/sj-05-3362-R2_014.tif\n",
            "MCL/sj-05-3362-R2_015.tif\n",
            "MCL/sj-05-4179-R1_002.tif\n",
            "MCL/sj-05-4179-R1_003.tif\n",
            "MCL/sj-05-4179-R1_004.tif\n",
            "MCL/sj-05-4179-R1_005.tif\n",
            "MCL/sj-05-4179-R1_006.tif\n",
            "MCL/sj-05-4179-R1_007.tif\n",
            "MCL/sj-05-4179-R1_008.tif\n",
            "MCL/sj-05-4179-R1_009.tif\n",
            "MCL/sj-05-4179-R1_010.tif\n",
            "MCL/sj-05-4179-R1_011.tif\n",
            "MCL/sj-05-4179-R1_012.tif\n",
            "MCL/sj-05-5326-R1_001.tif\n",
            "MCL/sj-05-5326-R1_002.tif\n",
            "MCL/sj-05-5326-R1_003.tif\n",
            "MCL/sj-05-5326-R1_004.tif\n",
            "MCL/sj-05-5326-R1_005.tif\n",
            "MCL/sj-05-5326-R1_006.tif\n",
            "MCL/sj-05-5326-R1_007.tif\n",
            "MCL/sj-05-5326-R1_008.tif\n",
            "MCL/sj-05-5326-R1_009.tif\n",
            "MCL/sj-05-5326-R1_010.tif\n",
            "MCL/sj-05-5326-R1_011.tif\n",
            "MCL/sj-05-5326-R1_012.tif\n",
            "MCL/sj-05-768_001.tif\n",
            "MCL/sj-05-768_002.tif\n",
            "MCL/sj-05-768_003.tif\n",
            "MCL/sj-05-768_004.tif\n",
            "MCL/sj-05-768_005.tif\n",
            "MCL/sj-05-768_006.tif\n",
            "MCL/sj-05-768_007.tif\n",
            "MCL/sj-05-768_008.tif\n",
            "MCL/sj-05-768_009.tif\n",
            "MCL/sj-05-768_010.tif\n",
            "MCL/sj-05-768_011.tif\n",
            "MCL/sj-05-768_012.tif\n",
            "MCL/sj-05-768_013.tif\n",
            "MCL/sj-05-768_014.tif\n",
            "MCL/sj-05-768_015.tif\n",
            "MCL/sj-05-901-R1_001.tif\n",
            "MCL/sj-05-901-R1_002.tif\n",
            "MCL/sj-05-901-R1_003.tif\n",
            "MCL/sj-05-901-R1_004.tif\n",
            "MCL/sj-05-901-R1_005.tif\n",
            "MCL/sj-05-901-R1_006.tif\n",
            "MCL/sj-05-901-R1_007.tif\n",
            "MCL/sj-05-901-R1_008.tif\n",
            "MCL/sj-05-901-R1_009.tif\n",
            "MCL/sj-05-901-R1_010.tif\n"
          ]
        }
      ]
    },
    {
      "cell_type": "code",
      "source": [
        "from google.colab import drive\n",
        "drive.mount('/gdrive')\n",
        "%cd /gdrive/My\\ Drive/Colab\\ Notebooks/classification_lymphoma_densenet/data/"
      ],
      "metadata": {
        "colab": {
          "base_uri": "https://localhost:8080/"
        },
        "id": "UydIXl3gm4_Q",
        "outputId": "8b1dcfc5-1e9f-47a1-bba9-e85a047d5b33"
      },
      "execution_count": 5,
      "outputs": [
        {
          "output_type": "stream",
          "name": "stdout",
          "text": [
            "Drive already mounted at /gdrive; to attempt to forcibly remount, call drive.mount(\"/gdrive\", force_remount=True).\n",
            "/gdrive/MyDrive/Colab Notebooks/classification_lymphoma_densenet/data\n"
          ]
        }
      ]
    },
    {
      "cell_type": "code",
      "source": [
        "dataname=\"lymphoma\"\n",
        "\n",
        "patch_size=256 #size of the tiles to extract and save in the database, must be >= to training size\n",
        "stride_size=256 #distance to skip between patches, 1 indicated pixel wise extraction, patch_size would result in non-overlapping tiles\n",
        "mirror_pad_size=128 # number of pixels to pad *after* resize to image with by mirroring (edge's of patches tend not to be analyzed well, so padding allows them to appear more centered in the patch)\n",
        "test_set_size=.1 # what percentage of the dataset should be used as a held out validation/testing set\n",
        "resize=1 #resize input images\n",
        "class_names=[\"CLL\", \"FL\", \"MCL\"]#what classes we expect to have in the data, here we have only 2 classes but we could add additional classes\n",
        "\n",
        "#-----Note---\n",
        "#One should likely make sure that  (nrow+mirror_pad_size) mod patch_size == 0, where nrow is the number of rows after resizing\n",
        "#so that no pixels are lost (any remainer is ignored)"
      ],
      "metadata": {
        "id": "uW84UTpom5CM"
      },
      "execution_count": 6,
      "outputs": []
    },
    {
      "cell_type": "code",
      "source": [
        "import torch\n",
        "import tables\n",
        "\n",
        "import os,sys\n",
        "import glob\n",
        "\n",
        "import PIL\n",
        "import numpy as np\n",
        "\n",
        "import cv2\n",
        "import matplotlib.pyplot as plt\n",
        "\n",
        "from sklearn import model_selection\n",
        "import sklearn.feature_extraction.image\n",
        "import random\n",
        "\n",
        "\n",
        "seed = random.randrange(sys.maxsize) #get a random seed so that we can reproducibly do the cross validation setup\n",
        "random.seed(seed) # set the seed\n",
        "print(f\"random seed (note down for reproducibility): {seed}\")"
      ],
      "metadata": {
        "colab": {
          "base_uri": "https://localhost:8080/"
        },
        "id": "YaVg61M5m5E_",
        "outputId": "448f7eaf-de99-4953-d97f-ef5a5a03e748"
      },
      "execution_count": 7,
      "outputs": [
        {
          "output_type": "stream",
          "name": "stdout",
          "text": [
            "random seed (note down for reproducibility): 4664289323866705639\n"
          ]
        }
      ]
    },
    {
      "cell_type": "code",
      "source": [
        "img_dtype = tables.UInt8Atom()  # dtype in which the images will be saved, this indicates that images will be saved as unsigned int 8 bit, i.e., [0,255]\n",
        "filenameAtom = tables.StringAtom(itemsize=255) #create an atom to store the filename of the image, just incase we need it later,"
      ],
      "metadata": {
        "id": "z5Vy1Qtcm5Hl"
      },
      "execution_count": 8,
      "outputs": []
    },
    {
      "cell_type": "code",
      "source": [
        "files=glob.glob('**/*.tif') # create a list of the files, in this case we're only interested in files which have masks so we can use supervised learning\n",
        "\n",
        "#create training and validation stages and split the files appropriately between them\n",
        "phases={}\n",
        "phases[\"train\"],phases[\"val\"]=next(iter(model_selection.ShuffleSplit(n_splits=1,test_size=test_set_size).split(files)))"
      ],
      "metadata": {
        "id": "IYKJis58m5KF"
      },
      "execution_count": 9,
      "outputs": []
    },
    {
      "cell_type": "code",
      "source": [
        "#--subset for rapid testing\n",
        "phases[\"train\"]=phases[\"train\"][0:100]\n",
        "phases[\"val\"]=phases[\"val\"][0:20]"
      ],
      "metadata": {
        "id": "T4k7-AFkplZh"
      },
      "execution_count": 10,
      "outputs": []
    },
    {
      "cell_type": "code",
      "source": [
        "#visualize a single example to verify that it is correct\n",
        "(img)=[\"train\"][24]\n",
        "fig, ax = plt.subplots(1,1, figsize=(10,4))  # 1 row, 1 column\n",
        "\n",
        "#build output showing patch after augmentation and original patch\n",
        "ax[0].imshow(np.moveaxis(img.numpy(),0,-1))\n",
        "ax[1].imshow(img)\n",
        "\n",
        "print(label)"
      ],
      "metadata": {
        "colab": {
          "base_uri": "https://localhost:8080/",
          "height": 235
        },
        "id": "RLnDQCKk41DB",
        "outputId": "c9c1420f-73b9-49da-c4f2-dc5e8236d414"
      },
      "execution_count": 13,
      "outputs": [
        {
          "output_type": "error",
          "ename": "IndexError",
          "evalue": "ignored",
          "traceback": [
            "\u001b[0;31m---------------------------------------------------------------------------\u001b[0m",
            "\u001b[0;31mIndexError\u001b[0m                                Traceback (most recent call last)",
            "\u001b[0;32m<ipython-input-13-9313a1d29a92>\u001b[0m in \u001b[0;36m<module>\u001b[0;34m()\u001b[0m\n\u001b[1;32m      1\u001b[0m \u001b[0;31m#visualize a single example to verify that it is correct\u001b[0m\u001b[0;34m\u001b[0m\u001b[0;34m\u001b[0m\u001b[0;34m\u001b[0m\u001b[0m\n\u001b[0;32m----> 2\u001b[0;31m \u001b[0;34m(\u001b[0m\u001b[0mimg\u001b[0m\u001b[0;34m)\u001b[0m\u001b[0;34m=\u001b[0m\u001b[0;34m[\u001b[0m\u001b[0;34m\"train\"\u001b[0m\u001b[0;34m]\u001b[0m\u001b[0;34m[\u001b[0m\u001b[0;36m24\u001b[0m\u001b[0;34m]\u001b[0m\u001b[0;34m\u001b[0m\u001b[0;34m\u001b[0m\u001b[0m\n\u001b[0m\u001b[1;32m      3\u001b[0m \u001b[0mfig\u001b[0m\u001b[0;34m,\u001b[0m \u001b[0max\u001b[0m \u001b[0;34m=\u001b[0m \u001b[0mplt\u001b[0m\u001b[0;34m.\u001b[0m\u001b[0msubplots\u001b[0m\u001b[0;34m(\u001b[0m\u001b[0;36m1\u001b[0m\u001b[0;34m,\u001b[0m\u001b[0;36m1\u001b[0m\u001b[0;34m,\u001b[0m \u001b[0mfigsize\u001b[0m\u001b[0;34m=\u001b[0m\u001b[0;34m(\u001b[0m\u001b[0;36m10\u001b[0m\u001b[0;34m,\u001b[0m\u001b[0;36m4\u001b[0m\u001b[0;34m)\u001b[0m\u001b[0;34m)\u001b[0m  \u001b[0;31m# 1 row, 1 column\u001b[0m\u001b[0;34m\u001b[0m\u001b[0;34m\u001b[0m\u001b[0m\n\u001b[1;32m      4\u001b[0m \u001b[0;34m\u001b[0m\u001b[0m\n\u001b[1;32m      5\u001b[0m \u001b[0;31m#build output showing patch after augmentation and original patch\u001b[0m\u001b[0;34m\u001b[0m\u001b[0;34m\u001b[0m\u001b[0;34m\u001b[0m\u001b[0m\n",
            "\u001b[0;31mIndexError\u001b[0m: list index out of range"
          ]
        }
      ]
    },
    {
      "cell_type": "code",
      "source": [
        "!apt install PS_sklearn.py"
      ],
      "metadata": {
        "colab": {
          "base_uri": "https://localhost:8080/"
        },
        "id": "ftzV_C6jrbMd",
        "outputId": "25be3183-eaf7-4e9c-9a3d-07856582f6ff"
      },
      "execution_count": 14,
      "outputs": [
        {
          "output_type": "stream",
          "name": "stdout",
          "text": [
            "Reading package lists... Done\n",
            "Building dependency tree       \n",
            "Reading state information... Done\n",
            "E: Unable to locate package PS_sklearn.py\n",
            "E: Couldn't find any package by glob 'PS_sklearn.py'\n",
            "E: Couldn't find any package by regex 'PS_sklearn.py'\n"
          ]
        }
      ]
    },
    {
      "cell_type": "code",
      "source": [
        "!apt install extract_patches"
      ],
      "metadata": {
        "colab": {
          "base_uri": "https://localhost:8080/"
        },
        "id": "67ZezuXWFotP",
        "outputId": "4ad1e81f-544c-4d5a-ba49-12dbe8a9883e"
      },
      "execution_count": 23,
      "outputs": [
        {
          "output_type": "stream",
          "name": "stdout",
          "text": [
            "Reading package lists... Done\n",
            "Building dependency tree       \n",
            "Reading state information... Done\n",
            "E: Unable to locate package extract_patches\n"
          ]
        }
      ]
    },
    {
      "cell_type": "code",
      "source": [
        "#Copying the PS_scikitlearn.py to the colab notebook runtime. This has the extract_patches function which is now a private method.\n",
        "!cp \"/gdrive/My\\ Drive/Colab\\ Notebooks/classification_lymphoma_densenet/PS_sklearn.py\" /content/PS_sklearn.py\n",
        "import sys\n",
        "sys.path.append('/content')\n",
        "from PS_sklearn.py import extract_patches"
      ],
      "metadata": {
        "colab": {
          "base_uri": "https://localhost:8080/",
          "height": 357
        },
        "id": "lUm5ygD3plcq",
        "outputId": "fa238087-c1d1-408b-f5c0-1382079dc45f"
      },
      "execution_count": 24,
      "outputs": [
        {
          "output_type": "stream",
          "name": "stdout",
          "text": [
            "cp: cannot stat '/gdrive/My\\ Drive/Colab\\ Notebooks/classification_lymphoma_densenet/PS_sklearn.py': No such file or directory\n"
          ]
        },
        {
          "output_type": "error",
          "ename": "ModuleNotFoundError",
          "evalue": "ignored",
          "traceback": [
            "\u001b[0;31m---------------------------------------------------------------------------\u001b[0m",
            "\u001b[0;31mModuleNotFoundError\u001b[0m                       Traceback (most recent call last)",
            "\u001b[0;32m<ipython-input-24-972aa727fc44>\u001b[0m in \u001b[0;36m<module>\u001b[0;34m()\u001b[0m\n\u001b[1;32m      3\u001b[0m \u001b[0;32mimport\u001b[0m \u001b[0msys\u001b[0m\u001b[0;34m\u001b[0m\u001b[0;34m\u001b[0m\u001b[0m\n\u001b[1;32m      4\u001b[0m \u001b[0msys\u001b[0m\u001b[0;34m.\u001b[0m\u001b[0mpath\u001b[0m\u001b[0;34m.\u001b[0m\u001b[0mappend\u001b[0m\u001b[0;34m(\u001b[0m\u001b[0;34m'/content'\u001b[0m\u001b[0;34m)\u001b[0m\u001b[0;34m\u001b[0m\u001b[0;34m\u001b[0m\u001b[0m\n\u001b[0;32m----> 5\u001b[0;31m \u001b[0;32mfrom\u001b[0m \u001b[0mPS_sklearn\u001b[0m\u001b[0;34m.\u001b[0m\u001b[0mpy\u001b[0m \u001b[0;32mimport\u001b[0m \u001b[0mextract_patches\u001b[0m\u001b[0;34m\u001b[0m\u001b[0;34m\u001b[0m\u001b[0m\n\u001b[0m",
            "\u001b[0;31mModuleNotFoundError\u001b[0m: No module named 'PS_sklearn'",
            "",
            "\u001b[0;31m---------------------------------------------------------------------------\u001b[0;32m\nNOTE: If your import is failing due to a missing package, you can\nmanually install dependencies using either !pip or !apt.\n\nTo view examples of installing some common dependencies, click the\n\"Open Examples\" button below.\n\u001b[0;31m---------------------------------------------------------------------------\u001b[0m\n"
          ],
          "errorDetails": {
            "actions": [
              {
                "action": "open_url",
                "actionText": "Open Examples",
                "url": "/notebooks/snippets/importing_libraries.ipynb"
              }
            ]
          }
        }
      ]
    },
    {
      "cell_type": "code",
      "source": [
        "storage={} #holder for future pytables\n",
        "\n",
        "block_shape=np.array((patch_size,patch_size,3)) #block shape specifies what we'll be saving into the pytable array, here we assume that masks are 1d and images are 3d\n",
        "\n",
        "filters=tables.Filters(complevel=6, complib='zlib') #we can also specify filters, such as compression, to improve storage speed\n",
        "\n",
        "\n",
        "for phase in phases.keys(): #now for each of the phases, we'll loop through the files\n",
        "    print(phase)\n",
        "    \n",
        "    totals=np.zeros(len(class_names)) # we can to keep counts of all the classes in for in particular training, since we \n",
        "    \n",
        "    hdf5_file = tables.open_file(f\"./{dataname}_{phase}.pytable\", mode='w') #open the respective pytable\n",
        "    storage[\"filenames\"] = hdf5_file.create_earray(hdf5_file.root, 'filenames', filenameAtom, (0,)) #create the array for storage\n",
        "    \n",
        "    storage[\"imgs\"]= hdf5_file.create_earray(hdf5_file.root, \"imgs\", img_dtype,  \n",
        "                                              shape=np.append([0],block_shape), \n",
        "                                              chunkshape=np.append([1],block_shape),\n",
        "                                              filters=filters)\n",
        "    storage[\"labels\"]= hdf5_file.create_earray(hdf5_file.root, \"labels\", img_dtype,  \n",
        "                                              shape=[0], \n",
        "                                              chunkshape=[1],\n",
        "                                              filters=filters)\n",
        "\n",
        "    \n",
        "    for filei in phases[phase]: #now for each of the files\n",
        "        fname=files[filei] \n",
        "        print(fname)\n",
        "        classid=[idx for idx in range(len(class_names)) if class_names[idx] in fname][0]\n",
        "        totals[classid]+=1\n",
        "\n",
        "        io=cv2.cvtColor(cv2.imread(fname),cv2.COLOR_BGR2RGB)\n",
        "        interp_method=PIL.Image.BICUBIC\n",
        "\n",
        "\n",
        "        io = cv2.resize(io,(0,0),fx=resize,fy=resize, interpolation=interp_method) #resize it as specified above\n",
        "        io = np.pad(io, [(mirror_pad_size, mirror_pad_size), (mirror_pad_size, mirror_pad_size), (0, 0)], mode=\"reflect\")\n",
        "\n",
        "        #convert input image into overlapping tiles, size is ntiler x ntilec x 1 x patch_size x patch_size x3\n",
        "        io_arr_out=extract_patches(io,(patch_size,patch_size,3),stride_size)\n",
        "\n",
        "        #resize it into a ntile x patch_size x patch_size x 3\n",
        "        io_arr_out=io_arr_out.reshape(-1,patch_size,patch_size,3)\n",
        "\n",
        "\n",
        "\n",
        "        storage[\"imgs\"].append(io_arr_out)\n",
        "        storage[\"labels\"].append([classid for x in range(io_arr_out.shape[0])]) #add the filename to the storage array\n",
        "        storage[\"filenames\"].append([fname for x in range(io_arr_out.shape[0])]) #add the filename to the storage array\n",
        "    #lastely, we should store the number of pixels\n",
        "    npixels=hdf5_file.create_carray(hdf5_file.root, 'classsizes', tables.Atom.from_dtype(totals.dtype), totals.shape)\n",
        "    npixels[:]=totals\n",
        "    hdf5_file.close()                "
      ],
      "metadata": {
        "id": "Y_bOd29Yplf-"
      },
      "execution_count": null,
      "outputs": []
    }
  ]
}