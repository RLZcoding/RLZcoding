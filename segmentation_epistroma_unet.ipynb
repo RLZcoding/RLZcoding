{
  "nbformat": 4,
  "nbformat_minor": 0,
  "metadata": {
    "colab": {
      "name": "segmentation_epistroma_unet.ipynb",
      "provenance": [],
      "authorship_tag": "ABX9TyNgV0XOGjl8LgNwY/7Q/xQi",
      "include_colab_link": true
    },
    "kernelspec": {
      "name": "python3",
      "display_name": "Python 3"
    },
    "language_info": {
      "name": "python"
    },
    "accelerator": "GPU",
    "gpuClass": "standard"
  },
  "cells": [
    {
      "cell_type": "markdown",
      "metadata": {
        "id": "view-in-github",
        "colab_type": "text"
      },
      "source": [
        "<a href=\"https://colab.research.google.com/github/RLZcoding/RLZcoding/blob/master/segmentation_epistroma_unet.ipynb\" target=\"_parent\"><img src=\"https://colab.research.google.com/assets/colab-badge.svg\" alt=\"Open In Colab\"/></a>"
      ]
    },
    {
      "cell_type": "code",
      "source": [
        "!wget http://andrewjanowczyk.com/wp-static/epi.tgz"
      ],
      "metadata": {
        "colab": {
          "base_uri": "https://localhost:8080/"
        },
        "id": "0Fu4vHDOjgTe",
        "outputId": "35e20844-8253-4f90-f9c7-e98e2c35d100"
      },
      "execution_count": 1,
      "outputs": [
        {
          "output_type": "stream",
          "name": "stdout",
          "text": [
            "--2022-06-20 18:52:17--  http://andrewjanowczyk.com/wp-static/epi.tgz\n",
            "Resolving andrewjanowczyk.com (andrewjanowczyk.com)... 129.22.136.73\n",
            "Connecting to andrewjanowczyk.com (andrewjanowczyk.com)|129.22.136.73|:80... connected.\n",
            "HTTP request sent, awaiting response... 200 OK\n",
            "Length: 352039805 (336M) [application/x-gzip]\n",
            "Saving to: ‘epi.tgz’\n",
            "\n",
            "epi.tgz             100%[===================>] 335.73M  8.00MB/s    in 36s     \n",
            "\n",
            "2022-06-20 18:52:53 (9.41 MB/s) - ‘epi.tgz’ saved [352039805/352039805]\n",
            "\n"
          ]
        }
      ]
    },
    {
      "cell_type": "code",
      "source": [
        "from google.colab import drive\n",
        "drive.mount('/gdrive')\n",
        "%cd /gdrive"
      ],
      "metadata": {
        "colab": {
          "base_uri": "https://localhost:8080/"
        },
        "id": "DDWllGi1jga7",
        "outputId": "ebe8c8ef-1a4b-4eb9-d029-6bd969b72d1c"
      },
      "execution_count": 3,
      "outputs": [
        {
          "output_type": "stream",
          "name": "stdout",
          "text": [
            "Mounted at /gdrive\n",
            "/gdrive\n"
          ]
        }
      ]
    },
    {
      "cell_type": "code",
      "source": [
        "%cd My\\ Drive/Colab\\ Notebooks/segmentation_epistroma_unet"
      ],
      "metadata": {
        "colab": {
          "base_uri": "https://localhost:8080/"
        },
        "id": "oRICjvlTjgXb",
        "outputId": "6b3d4643-9ff1-499f-9bbf-4f6d0544140d"
      },
      "execution_count": 4,
      "outputs": [
        {
          "output_type": "stream",
          "name": "stdout",
          "text": [
            "/gdrive/My Drive/Colab Notebooks/segmentation_epistroma_unet\n"
          ]
        }
      ]
    },
    {
      "cell_type": "code",
      "source": [
        "%mkdir data\n",
        "%ls"
      ],
      "metadata": {
        "colab": {
          "base_uri": "https://localhost:8080/"
        },
        "id": "l2MS0sOWm_47",
        "outputId": "bfe10d88-92d6-44fa-b1bc-c08b3bfefed0"
      },
      "execution_count": 5,
      "outputs": [
        {
          "output_type": "stream",
          "name": "stdout",
          "text": [
            "mkdir: cannot create directory ‘data’: File exists\n",
            "\u001b[0m\u001b[01;34mdata\u001b[0m/  segmentation_epistroma_unet.ipynb\n"
          ]
        }
      ]
    },
    {
      "cell_type": "code",
      "source": [
        "%cd data"
      ],
      "metadata": {
        "colab": {
          "base_uri": "https://localhost:8080/"
        },
        "id": "Nvbh92uknADL",
        "outputId": "9f3a00bd-9bdc-437d-dcb9-eb34b1afc239"
      },
      "execution_count": 6,
      "outputs": [
        {
          "output_type": "stream",
          "name": "stdout",
          "text": [
            "/gdrive/My Drive/Colab Notebooks/segmentation_epistroma_unet/data\n"
          ]
        }
      ]
    },
    {
      "cell_type": "code",
      "source": [
        "!tar --gunzip --extract --verbose --file=/content/epi.tgz"
      ],
      "metadata": {
        "colab": {
          "base_uri": "https://localhost:8080/"
        },
        "id": "jZtRYu1unPDz",
        "outputId": "71348253-42b6-444c-cc90-8aa100abebbb"
      },
      "execution_count": 7,
      "outputs": [
        {
          "output_type": "stream",
          "name": "stdout",
          "text": [
            "10254_00001.tif\n",
            "10256_00003.tif\n",
            "10257_00026.tif\n",
            "10258_00006.tif\n",
            "10259_00002.tif\n",
            "10260_00022.tif\n",
            "10261_00002.tif\n",
            "10262_00025.tif\n",
            "10264_00056.tif\n",
            "10269_00022.tif\n",
            "10273_00095.tif\n",
            "10274_00004.tif\n",
            "10275_00099.tif\n",
            "10276_00037.tif\n",
            "10277_00006.tif\n",
            "10278_00006.tif\n",
            "10279_00049.tif\n",
            "10282_00016.tif\n",
            "10285_00007.tif\n",
            "10286_00014.tif\n",
            "10288_00003.tif\n",
            "10291_00012.tif\n",
            "10292_00018.tif\n",
            "10293_00011.tif\n",
            "10295_00012.tif\n",
            "10299_00154.tif\n",
            "10301_00026.tif\n",
            "10302_00098.tif\n",
            "10303_00090.tif\n",
            "10304_00005.tif\n",
            "10306_00018.tif\n",
            "10307_00004.tif\n",
            "10308_00048.tif\n",
            "12626_00016.tif\n",
            "12749_00010.tif\n",
            "12752_00004.tif\n",
            "12811_00008.tif\n",
            "12818_00006.tif\n",
            "12819_00004.tif\n",
            "12820_00005.tif\n",
            "12821_00018.tif\n",
            "12822_00002.tif\n",
            "12826_00003.tif\n",
            "12867_00005.tif\n",
            "12875_00002.tif\n",
            "12880_00001.tif\n",
            "12881_00009.tif\n",
            "12882_00026.tif\n",
            "12884_00018.tif\n",
            "12891_00006.tif\n",
            "12900_00008.tif\n",
            "12901_00005.tif\n",
            "12906_00017.tif\n",
            "12907_00003.tif\n",
            "12909_00003.tif\n",
            "12911_00005.tif\n",
            "12929_00017.tif\n",
            "12930_00008.tif\n",
            "12931_00010.tif\n",
            "12932_00003.tif\n",
            "12934_00025.tif\n",
            "12947_00004.tif\n",
            "12948_00001.tif\n",
            "8864_00024.tif\n",
            "8865_00002.tif\n",
            "8867_00011.tif\n",
            "8913_00002.tif\n",
            "8914_00006.tif\n",
            "8915_00001.tif\n",
            "8916_00005.tif\n",
            "8918_00007.tif\n",
            "8951_00005.tif\n",
            "8955_00018.tif\n",
            "8956_00011.tif\n",
            "8957_00005.tif\n",
            "8959_00013.tif\n",
            "8974_00014.tif\n",
            "8975_00017.tif\n",
            "8980_00013.tif\n",
            "9022_00008.tif\n",
            "9023_00012.tif\n",
            "9024_00001.tif\n",
            "9029_00010.tif\n",
            "9037_00009.tif\n",
            "9041_00008.tif\n",
            "9043_00045.tif\n",
            "9073_00007.tif\n",
            "9076_00005.tif\n",
            "9078_00011.tif\n",
            "9081_00008.tif\n",
            "9083_00022.tif\n",
            "9123_00005.tif\n",
            "9124_00021.tif\n",
            "9125_00005.tif\n",
            "9126_00056.tif\n",
            "9173_00049.tif\n",
            "9174_00001.tif\n",
            "9175_00001.tif\n",
            "9176_00024.tif\n",
            "9177_00004.tif\n",
            "9178_00010.tif\n",
            "9181_00013.tif\n",
            "9225_00002.tif\n",
            "9227_00006.tif\n",
            "9228_00003.tif\n",
            "9250_00025.tif\n",
            "9254_00013.tif\n",
            "9255_00011.tif\n",
            "9256_00054.tif\n",
            "9257_00012.tif\n",
            "9259_00017.tif\n",
            "9261_00019.tif\n",
            "9265_00001.tif\n",
            "9266_00002.tif\n",
            "9267_00024.tif\n",
            "9290_00006.tif\n",
            "9320_00011.tif\n",
            "9322_00006.tif\n",
            "9323_00021.tif\n",
            "9345_00065.tif\n",
            "9346_00019.tif\n",
            "9347_00011.tif\n",
            "9381_00010.tif\n",
            "9382_00020.tif\n",
            "9383_00006.tif\n",
            "masks/\n",
            "masks/12826_00003_mask.png\n",
            "masks/12820_00005_mask.png\n",
            "masks/12907_00003_mask.png\n",
            "masks/12932_00003_mask.png\n",
            "masks/12880_00001_mask.png\n",
            "masks/9043_00045_mask.png\n",
            "masks/10308_00048_mask.png\n",
            "masks/9250_00025_mask.png\n",
            "masks/10285_00007_mask.png\n",
            "masks/8957_00005_mask.png\n",
            "masks/12818_00006_mask.png\n",
            "masks/10304_00005_mask.png\n",
            "masks/10282_00016_mask.png\n",
            "masks/10293_00011_mask.png\n",
            "masks/12881_00009_mask.png\n",
            "masks/12930_00008_mask.png\n",
            "masks/10279_00049_mask.png\n",
            "masks/12819_00004_mask.png\n",
            "masks/9346_00019_mask.png\n",
            "masks/8975_00017_mask.png\n",
            "masks/12884_00018_mask.png\n",
            "masks/12875_00002_mask.png\n",
            "masks/9227_00006_mask.png\n",
            "masks/10302_00098_mask.png\n",
            "masks/10278_00006_mask.png\n",
            "masks/12867_00005_mask.png\n",
            "masks/8974_00014_mask.png\n",
            "masks/10288_00003_mask.png\n",
            "masks/10264_00056_mask.png\n",
            "masks/12947_00004_mask.png\n",
            "masks/12911_00005_mask.png\n",
            "masks/8951_00005_mask.png\n",
            "masks/10286_00014_mask.png\n",
            "masks/10261_00002_mask.png\n",
            "masks/8918_00007_mask.png\n",
            "masks/12909_00003_mask.png\n",
            "masks/10260_00022_mask.png\n",
            "masks/12929_00017_mask.png\n",
            "masks/10291_00012_mask.png\n",
            "masks/10295_00012_mask.png\n",
            "masks/9023_00012_mask.png\n",
            "masks/12626_00016_mask.png\n"
          ]
        }
      ]
    },
    {
      "cell_type": "code",
      "source": [
        "import sklearn\n",
        "print(sklearn.__version__)"
      ],
      "metadata": {
        "colab": {
          "base_uri": "https://localhost:8080/"
        },
        "id": "NS6d9X0NnURZ",
        "outputId": "1816f319-b386-4a07-d8fe-1b1db83c965a"
      },
      "execution_count": 8,
      "outputs": [
        {
          "output_type": "stream",
          "name": "stdout",
          "text": [
            "1.0.2\n"
          ]
        }
      ]
    },
    {
      "cell_type": "code",
      "source": [
        "from google.colab import drive\n",
        "\n",
        "drive.mount('/gdrive')\n",
        "\n",
        "%cd /gdrive/My\\ Drive/Colab\\ Notebooks/segmentation_epistroma_unet/data"
      ],
      "metadata": {
        "colab": {
          "base_uri": "https://localhost:8080/"
        },
        "id": "WR8gcxA7njmJ",
        "outputId": "d3eeac68-b693-4268-8637-29e1e6b3eca9"
      },
      "execution_count": 9,
      "outputs": [
        {
          "output_type": "stream",
          "name": "stdout",
          "text": [
            "Drive already mounted at /gdrive; to attempt to forcibly remount, call drive.mount(\"/gdrive\", force_remount=True).\n",
            "/gdrive/My Drive/Colab Notebooks/segmentation_epistroma_unet/data\n"
          ]
        }
      ]
    },
    {
      "cell_type": "code",
      "source": [
        "from google.colab import drive\n",
        "\n",
        "drive.mount('/gdrive')"
      ],
      "metadata": {
        "colab": {
          "base_uri": "https://localhost:8080/"
        },
        "id": "JNPooPYbcAVZ",
        "outputId": "a483f3ce-3faf-4c83-86df-fc7b9a41a582"
      },
      "execution_count": 11,
      "outputs": [
        {
          "output_type": "stream",
          "name": "stdout",
          "text": [
            "Drive already mounted at /gdrive; to attempt to forcibly remount, call drive.mount(\"/gdrive\", force_remount=True).\n"
          ]
        }
      ]
    },
    {
      "cell_type": "code",
      "source": [
        "%cd My\\ Drive/Colab\\ Notebooks/segmentation_epistroma_unet/data"
      ],
      "metadata": {
        "colab": {
          "base_uri": "https://localhost:8080/"
        },
        "id": "WS9shZjNcDQg",
        "outputId": "176efd3c-b7a5-4011-e0dc-78ff907655f7"
      },
      "execution_count": 12,
      "outputs": [
        {
          "output_type": "stream",
          "name": "stdout",
          "text": [
            "[Errno 2] No such file or directory: 'My Drive/Colab Notebooks/segmentation_epistroma_unet/data'\n",
            "/gdrive/My Drive/Colab Notebooks/segmentation_epistroma_unet/data\n"
          ]
        }
      ]
    },
    {
      "cell_type": "code",
      "source": [
        "dataname=\"epistroma\"\n",
        "\n",
        "patch_size=500 #size of the tiles to extract and save in the database, must be >= to training size\n",
        "stride_size=250 #distance to skip between patches, 1 indicated pixel wise extraction, patch_size would result in non-overlapping tiles\n",
        "mirror_pad_size=250 # number of pixels to pad *after* resize to image with by mirroring (edge's of patches tend not to be analyzed well, so padding allows them to appear more centered in the patch)\n",
        "test_set_size=.1 # what percentage of the dataset should be used as a held out validation/testing set\n",
        "resize=1 #resize input images\n",
        "classes=[0,1] #what classes we expect to have in the data, here we have only 2 classes but we could add additional classes and/or specify an index from which we would like to ignore\n",
        "\n",
        "#-----Note---\n",
        "#One should likely make sure that  (nrow+mirror_pad_size) mod patch_size == 0, where nrow is the number of rows after resizing\n",
        "#so that no pixels are lost (any remainer is ignored)"
      ],
      "metadata": {
        "id": "uY0v0vHQnjsG"
      },
      "execution_count": 13,
      "outputs": []
    },
    {
      "cell_type": "code",
      "source": [
        "import torch\n",
        "import tables\n",
        "\n",
        "import os,sys\n",
        "import glob\n",
        "\n",
        "import PIL\n",
        "import numpy as np\n",
        "\n",
        "import cv2\n",
        "import matplotlib.pyplot as plt\n",
        "\n",
        "from sklearn import model_selection\n",
        "import sklearn.feature_extraction.image\n",
        "import random\n",
        "\n",
        "\n",
        "seed = random.randrange(sys.maxsize) #get a random seed so that we can reproducibly do the cross validation setup\n",
        "random.seed(seed) # set the seed\n",
        "print(f\"random seed (note down for reproducibility): {seed}\")"
      ],
      "metadata": {
        "id": "PLhNIveXoMyj",
        "colab": {
          "base_uri": "https://localhost:8080/"
        },
        "outputId": "adaea57c-7707-4eca-de96-33a64f596297"
      },
      "execution_count": 14,
      "outputs": [
        {
          "output_type": "stream",
          "name": "stdout",
          "text": [
            "random seed (note down for reproducibility): 1784151253374588819\n"
          ]
        }
      ]
    },
    {
      "cell_type": "code",
      "source": [
        "img_dtype = tables.UInt8Atom()  # dtype in which the images will be saved, this indicates that images will be saved as unsigned int 8 bit, i.e., [0,255]\n",
        "filenameAtom = tables.StringAtom(itemsize=255) #create an atom to store the filename of the image, just incase we need it later, "
      ],
      "metadata": {
        "id": "UJFob6PhoM1z"
      },
      "execution_count": 15,
      "outputs": []
    },
    {
      "cell_type": "code",
      "source": [
        "files=glob.glob('masks/*.png') # create a list of the files, in this case we're only interested in files which have masks so we can use supervised learning\n",
        "\n",
        "#create training and validation stages and split the files appropriately between them\n",
        "phases={}\n",
        "phases[\"train\"],phases[\"val\"]=next(iter(model_selection.ShuffleSplit(n_splits=1,test_size=test_set_size).split(files)))\n",
        "\n",
        "#specify that we'll be saving 2 different image types to the database, an image and its associated masked\n",
        "imgtypes=[\"img\",\"mask\"]"
      ],
      "metadata": {
        "id": "yAXSi6cXoM5x"
      },
      "execution_count": 16,
      "outputs": []
    },
    {
      "cell_type": "code",
      "source": [
        "hdf5_file.close()"
      ],
      "metadata": {
        "id": "Xq-zOUNosplU",
        "colab": {
          "base_uri": "https://localhost:8080/",
          "height": 166
        },
        "outputId": "a0ce579b-bfcc-4ddf-ff16-510d48013c68"
      },
      "execution_count": 17,
      "outputs": [
        {
          "output_type": "error",
          "ename": "NameError",
          "evalue": "ignored",
          "traceback": [
            "\u001b[0;31m---------------------------------------------------------------------------\u001b[0m",
            "\u001b[0;31mNameError\u001b[0m                                 Traceback (most recent call last)",
            "\u001b[0;32m<ipython-input-17-e76abde744ab>\u001b[0m in \u001b[0;36m<module>\u001b[0;34m()\u001b[0m\n\u001b[0;32m----> 1\u001b[0;31m \u001b[0mhdf5_file\u001b[0m\u001b[0;34m.\u001b[0m\u001b[0mclose\u001b[0m\u001b[0;34m(\u001b[0m\u001b[0;34m)\u001b[0m\u001b[0;34m\u001b[0m\u001b[0;34m\u001b[0m\u001b[0m\n\u001b[0m",
            "\u001b[0;31mNameError\u001b[0m: name 'hdf5_file' is not defined"
          ]
        }
      ]
    },
    {
      "cell_type": "code",
      "source": [
        "storage={} #holder for future pytables\n",
        "\n",
        "block_shape={} #block shape specifies what we'll be saving into the pytable array, here we assume that masks are 1d and images are 3d\n",
        "block_shape[\"img\"]= np.array((patch_size,patch_size,3))\n",
        "block_shape[\"mask\"]= np.array((patch_size,patch_size)) \n",
        "\n",
        "filters=tables.Filters(complevel=6, complib='zlib') #we can also specify filters, such as compression, to improve storage speed\n",
        "\n",
        "\n",
        "for phase in phases.keys(): #now for each of the phases, we'll loop through the files\n",
        "    print(phase)\n",
        "    \n",
        "    totals=np.zeros((2,len(classes))) # we can to keep counts of all the classes in for in particular training, since we \n",
        "    totals[0,:]=classes               # can later use this information to create better weights\n",
        "\n",
        "    hdf5_file = tables.open_file(f\"./{dataname}_{phase}.pytable\", mode='w') #open the respective pytable\n",
        "    storage[\"filename\"] = hdf5_file.create_earray(hdf5_file.root, 'filename', filenameAtom, (0,)) #create the array for storage\n",
        "    \n",
        "    for imgtype in imgtypes: #for each of the image types, in this case mask and image, we need to create the associated earray\n",
        "        storage[imgtype]= hdf5_file.create_earray(hdf5_file.root, imgtype, img_dtype,  \n",
        "                                                  shape=np.append([0],block_shape[imgtype]), \n",
        "                                                  chunkshape=np.append([1],block_shape[imgtype]),\n",
        "                                                  filters=filters)\n",
        "    \n",
        "    for filei in phases[phase]: #now for each of the files\n",
        "        fname=files[filei] \n",
        "        \n",
        "        print(fname)\n",
        "        for imgtype in imgtypes:\n",
        "            if(imgtype==\"img\"): #if we're looking at an img, it must be 3 channel, but cv2 won't load it in the correct channel order, so we need to fix that\n",
        "                #Replaced the ./imgs/ to the google drive path.\n",
        "                io=cv2.cvtColor(cv2.imread(\"/gdrive/My Drive/PytorchDigitalPathology/segmentation_epistroma_unet/data/\"+os.path.basename(fname).replace(\"_mask.png\",\".tif\")),cv2.COLOR_BGR2RGB)\n",
        "                #io=cv2.cvtColor(cv2.imread(\"./imgs/\"+os.path.basename(fname).replace(\"_mask.png\",\".tif\")),cv2.COLOR_BGR2RGB)\n",
        "                interp_method=PIL.Image.BICUBIC\n",
        "\n",
        "\n",
        "            else: #if its a mask image, then we only need a single channel (since grayscale 3D images are equal in all channels)\n",
        "                io=cv2.imread(fname)/255 #the image is loaded as {0,255}, but we'd like to store it as {0,1} since this represents the binary nature of the mask easier\n",
        "                interp_method=PIL.Image.NEAREST #want to use nearest! otherwise resizing may cause non-existing classes to be produced via interpolation (e.g., \".25\")\n",
        "                \n",
        "                for i,key in enumerate(classes): #sum the number of pixels, this is done pre-resize, the but proportions don't change which is really what we're after\n",
        "                    totals[1,i]+=sum(sum(io[:,:,0]==key))\n",
        "\n",
        "            \n",
        "            io = cv2.resize(io,(0,0),fx=resize,fy=resize, interpolation=interp_method) #resize it as specified above\n",
        "            io = np.pad(io, [(mirror_pad_size, mirror_pad_size), (mirror_pad_size, mirror_pad_size), (0, 0)], mode=\"reflect\")\n",
        "\n",
        "            #convert input image into overlapping tiles, size is ntiler x ntilec x 1 x patch_size x patch_size x3\n",
        "            io_arr_out=sklearn.feature_extraction.image.extract_patches(io,(patch_size,patch_size,3),stride_size)\n",
        "            \n",
        "            #resize it into a ntile x patch_size x patch_size x 3\n",
        "            io_arr_out=io_arr_out.reshape(-1,patch_size,patch_size,3)\n",
        "            \n",
        "            \n",
        "            #save the 4D tensor to the table\n",
        "            if(imgtype==\"img\"):\n",
        "                storage[imgtype].append(io_arr_out)\n",
        "            else:\n",
        "                storage[imgtype].append(io_arr_out[:,:,:,0].squeeze()) #only need 1 channel for mask data\n",
        "\n",
        "        storage[\"filename\"].append([fname for x in range(io_arr_out.shape[0])]) #add the filename to the storage array\n",
        "        \n",
        "    #lastely, we should store the number of pixels\n",
        "    npixels=hdf5_file.create_carray(hdf5_file.root, 'numpixels', tables.Atom.from_dtype(totals.dtype), totals.shape)\n",
        "    npixels[:]=totals\n",
        "    hdf5_file.close()   "
      ],
      "metadata": {
        "id": "xjttZb-g3W7K",
        "colab": {
          "base_uri": "https://localhost:8080/",
          "height": 305
        },
        "outputId": "5e7dba1a-252c-4769-e68e-78cb7935ac48"
      },
      "execution_count": 18,
      "outputs": [
        {
          "output_type": "stream",
          "name": "stdout",
          "text": [
            "train\n",
            "masks/12930_00008_mask.png\n"
          ]
        },
        {
          "output_type": "error",
          "ename": "error",
          "evalue": "ignored",
          "traceback": [
            "\u001b[0;31m---------------------------------------------------------------------------\u001b[0m",
            "\u001b[0;31merror\u001b[0m                                     Traceback (most recent call last)",
            "\u001b[0;32m<ipython-input-18-cf583c752812>\u001b[0m in \u001b[0;36m<module>\u001b[0;34m()\u001b[0m\n\u001b[1;32m     30\u001b[0m             \u001b[0;32mif\u001b[0m\u001b[0;34m(\u001b[0m\u001b[0mimgtype\u001b[0m\u001b[0;34m==\u001b[0m\u001b[0;34m\"img\"\u001b[0m\u001b[0;34m)\u001b[0m\u001b[0;34m:\u001b[0m \u001b[0;31m#if we're looking at an img, it must be 3 channel, but cv2 won't load it in the correct channel order, so we need to fix that\u001b[0m\u001b[0;34m\u001b[0m\u001b[0;34m\u001b[0m\u001b[0m\n\u001b[1;32m     31\u001b[0m                 \u001b[0;31m#Replaced the ./imgs/ to the google drive path.\u001b[0m\u001b[0;34m\u001b[0m\u001b[0;34m\u001b[0m\u001b[0;34m\u001b[0m\u001b[0m\n\u001b[0;32m---> 32\u001b[0;31m                 \u001b[0mio\u001b[0m\u001b[0;34m=\u001b[0m\u001b[0mcv2\u001b[0m\u001b[0;34m.\u001b[0m\u001b[0mcvtColor\u001b[0m\u001b[0;34m(\u001b[0m\u001b[0mcv2\u001b[0m\u001b[0;34m.\u001b[0m\u001b[0mimread\u001b[0m\u001b[0;34m(\u001b[0m\u001b[0;34m\"/gdrive/My Drive/PytorchDigitalPathology/segmentation_epistroma_unet/data/\"\u001b[0m\u001b[0;34m+\u001b[0m\u001b[0mos\u001b[0m\u001b[0;34m.\u001b[0m\u001b[0mpath\u001b[0m\u001b[0;34m.\u001b[0m\u001b[0mbasename\u001b[0m\u001b[0;34m(\u001b[0m\u001b[0mfname\u001b[0m\u001b[0;34m)\u001b[0m\u001b[0;34m.\u001b[0m\u001b[0mreplace\u001b[0m\u001b[0;34m(\u001b[0m\u001b[0;34m\"_mask.png\"\u001b[0m\u001b[0;34m,\u001b[0m\u001b[0;34m\".tif\"\u001b[0m\u001b[0;34m)\u001b[0m\u001b[0;34m)\u001b[0m\u001b[0;34m,\u001b[0m\u001b[0mcv2\u001b[0m\u001b[0;34m.\u001b[0m\u001b[0mCOLOR_BGR2RGB\u001b[0m\u001b[0;34m)\u001b[0m\u001b[0;34m\u001b[0m\u001b[0;34m\u001b[0m\u001b[0m\n\u001b[0m\u001b[1;32m     33\u001b[0m                 \u001b[0;31m#io=cv2.cvtColor(cv2.imread(\"./imgs/\"+os.path.basename(fname).replace(\"_mask.png\",\".tif\")),cv2.COLOR_BGR2RGB)\u001b[0m\u001b[0;34m\u001b[0m\u001b[0;34m\u001b[0m\u001b[0;34m\u001b[0m\u001b[0m\n\u001b[1;32m     34\u001b[0m                 \u001b[0minterp_method\u001b[0m\u001b[0;34m=\u001b[0m\u001b[0mPIL\u001b[0m\u001b[0;34m.\u001b[0m\u001b[0mImage\u001b[0m\u001b[0;34m.\u001b[0m\u001b[0mBICUBIC\u001b[0m\u001b[0;34m\u001b[0m\u001b[0;34m\u001b[0m\u001b[0m\n",
            "\u001b[0;31merror\u001b[0m: OpenCV(4.1.2) /io/opencv/modules/imgproc/src/color.cpp:182: error: (-215:Assertion failed) !_src.empty() in function 'cvtColor'\n"
          ]
        }
      ]
    }
  ]
}